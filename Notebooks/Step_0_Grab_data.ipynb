{
 "cells": [
  {
   "cell_type": "markdown",
   "metadata": {},
   "source": [
    "# Step 0: Grab data files from NCES\n",
    "# This page is just to grab the files we need\n",
    "\n",
    "## At the core, each \"survey\" file has the csv data along with a dictionary for deciphering it\n",
    "### These will be downloaded to a local \"input directory\""
   ]
  },
  {
   "cell_type": "code",
   "execution_count": 1,
   "metadata": {},
   "outputs": [],
   "source": [
    "import pandas as pd\n",
    "import numpy as np\n",
    "from zipfile import ZipFile\n",
    "import csv"
   ]
  },
  {
   "cell_type": "code",
   "execution_count": 2,
   "metadata": {},
   "outputs": [],
   "source": [
    "# This function is just a utility for grabbing the files\n",
    "import urllib\n",
    "import io\n",
    "import os\n",
    "\n",
    "def grab_zipfile(baseUrl, fileroot):\n",
    "    '''uses a known static baseUrl to grab a zipped archive'''\n",
    "    full_url = baseUrl + fileroot + '.zip'\n",
    "    print(full_url, flush=True)\n",
    "    remoteFile = urllib.request.urlopen(full_url)\n",
    "\n",
    "    bio = io.BytesIO()\n",
    "    bio.write(remoteFile.read())\n",
    "\n",
    "    z = ZipFile(bio, 'r')\n",
    "    print(z.namelist(), flush=True)\n",
    "    z.extract(z.namelist()[0])\n",
    "    return z.namelist()[0]"
   ]
  },
  {
   "cell_type": "code",
   "execution_count": 3,
   "metadata": {},
   "outputs": [],
   "source": [
    "os.mkdir('inputs')\n",
    "os.chdir('inputs')"
   ]
  },
  {
   "cell_type": "code",
   "execution_count": 6,
   "metadata": {
    "scrolled": true
   },
   "outputs": [
    {
     "name": "stdout",
     "output_type": "stream",
     "text": [
      "https://nces.ed.gov/ipeds/datacenter/data/GR2021.zip\n",
      "['gr2021.csv']\n",
      "https://nces.ed.gov/ipeds/datacenter/data/GR2021_DICT.zip\n",
      "['gr2021.xlsx']\n"
     ]
    },
    {
     "data": {
      "text/plain": [
       "'gr2021.xlsx'"
      ]
     },
     "execution_count": 6,
     "metadata": {},
     "output_type": "execute_result"
    }
   ],
   "source": [
    "# Here's where the files live:\n",
    "baseUrl = 'https://nces.ed.gov/ipeds/datacenter/data/'\n",
    "\n",
    "# Grad rate data; for each file, we typically try 2 more years than the prior year and if that file doesn't exist, try one more\n",
    "fileroot = 'GR2021'\n",
    "\n",
    "grab_zipfile(baseUrl, fileroot)\n",
    "grab_zipfile(baseUrl, fileroot+'_DICT')\n"
   ]
  },
  {
   "cell_type": "code",
   "execution_count": 7,
   "metadata": {},
   "outputs": [
    {
     "name": "stdout",
     "output_type": "stream",
     "text": [
      "https://nces.ed.gov/ipeds/datacenter/data/GR2020.zip\n",
      "['gr2020.csv', 'gr2020_rv.csv']\n",
      "https://nces.ed.gov/ipeds/datacenter/data/GR2019.zip\n",
      "['gr2019.csv', 'gr2019_rv.csv']\n"
     ]
    },
    {
     "data": {
      "text/plain": [
       "'gr2019.csv'"
      ]
     },
     "execution_count": 7,
     "metadata": {},
     "output_type": "execute_result"
    }
   ],
   "source": [
    "# For grad rate only, we grab the 3 most recent years\n",
    "grab_zipfile(baseUrl, 'GR2020')\n",
    "grab_zipfile(baseUrl, 'GR2019')"
   ]
  },
  {
   "cell_type": "code",
   "execution_count": 10,
   "metadata": {},
   "outputs": [
    {
     "name": "stdout",
     "output_type": "stream",
     "text": [
      "https://nces.ed.gov/ipeds/datacenter/data/HD2021.zip\n",
      "['hd2021.csv']\n"
     ]
    },
    {
     "data": {
      "text/plain": [
       "'hd2021.csv'"
      ]
     },
     "execution_count": 10,
     "metadata": {},
     "output_type": "execute_result"
    }
   ],
   "source": [
    "# The master directory:\n",
    "grab_zipfile(baseUrl, 'HD2021')"
   ]
  },
  {
   "cell_type": "code",
   "execution_count": 11,
   "metadata": {},
   "outputs": [
    {
     "name": "stdout",
     "output_type": "stream",
     "text": [
      "https://nces.ed.gov/ipeds/datacenter/data/HD2021_DICT.zip\n",
      "['hd2021.xlsx']\n"
     ]
    },
    {
     "data": {
      "text/plain": [
       "'hd2021.xlsx'"
      ]
     },
     "execution_count": 11,
     "metadata": {},
     "output_type": "execute_result"
    }
   ],
   "source": [
    "grab_zipfile(baseUrl, 'HD2021_DICT')"
   ]
  },
  {
   "cell_type": "code",
   "execution_count": 12,
   "metadata": {},
   "outputs": [
    {
     "name": "stdout",
     "output_type": "stream",
     "text": [
      "https://nces.ed.gov/ipeds/datacenter/data/ADM2021.zip\n",
      "['adm2021.csv']\n",
      "https://nces.ed.gov/ipeds/datacenter/data/ADM2021_DICT.zip\n",
      "['adm2021.xlsx']\n"
     ]
    },
    {
     "data": {
      "text/plain": [
       "'adm2021.xlsx'"
      ]
     },
     "execution_count": 12,
     "metadata": {},
     "output_type": "execute_result"
    }
   ],
   "source": [
    "# Admissions\n",
    "grab_zipfile(baseUrl, 'ADM2021')\n",
    "grab_zipfile(baseUrl, 'ADM2021_DICT')"
   ]
  },
  {
   "cell_type": "code",
   "execution_count": 13,
   "metadata": {},
   "outputs": [
    {
     "name": "stdout",
     "output_type": "stream",
     "text": [
      "https://nces.ed.gov/ipeds/datacenter/data/EF2021A.zip\n",
      "['ef2021a.csv']\n",
      "https://nces.ed.gov/ipeds/datacenter/data/EF2021A_DICT.zip\n",
      "['ef2021a.xlsx']\n"
     ]
    },
    {
     "data": {
      "text/plain": [
       "'ef2021a.xlsx'"
      ]
     },
     "execution_count": 13,
     "metadata": {},
     "output_type": "execute_result"
    }
   ],
   "source": [
    "# Ethnicity\n",
    "grab_zipfile(baseUrl, 'EF2021A')\n",
    "grab_zipfile(baseUrl, 'EF2021A_DICT')"
   ]
  },
  {
   "cell_type": "code",
   "execution_count": 14,
   "metadata": {},
   "outputs": [
    {
     "name": "stdout",
     "output_type": "stream",
     "text": [
      "https://nces.ed.gov/ipeds/datacenter/data/EF2021D.zip\n",
      "['ef2021d.csv']\n",
      "https://nces.ed.gov/ipeds/datacenter/data/EF2021D_DICT.zip\n",
      "['ef2021d.xlsx']\n"
     ]
    },
    {
     "data": {
      "text/plain": [
       "'ef2021d.xlsx'"
      ]
     },
     "execution_count": 14,
     "metadata": {},
     "output_type": "execute_result"
    }
   ],
   "source": [
    "# Retention\n",
    "grab_zipfile(baseUrl, 'EF2021D')\n",
    "grab_zipfile(baseUrl, 'EF2021D_DICT')"
   ]
  },
  {
   "cell_type": "code",
   "execution_count": 15,
   "metadata": {},
   "outputs": [
    {
     "name": "stdout",
     "output_type": "stream",
     "text": [
      "https://nces.ed.gov/ipeds/datacenter/data/IC2021.zip\n",
      "['ic2021.csv']\n",
      "https://nces.ed.gov/ipeds/datacenter/data/IC2021_DICT.zip\n",
      "['ic2021.xlsx']\n"
     ]
    },
    {
     "data": {
      "text/plain": [
       "'ic2021.xlsx'"
      ]
     },
     "execution_count": 15,
     "metadata": {},
     "output_type": "execute_result"
    }
   ],
   "source": [
    "# Institutional Characteristics\n",
    "grab_zipfile(baseUrl, 'IC2021')\n",
    "grab_zipfile(baseUrl, 'IC2021_DICT')"
   ]
  },
  {
   "cell_type": "code",
   "execution_count": 16,
   "metadata": {},
   "outputs": [
    {
     "name": "stdout",
     "output_type": "stream",
     "text": [
      "https://nces.ed.gov/ipeds/datacenter/data/SFA2021.zip\n",
      "['sfa2021.csv']\n",
      "https://nces.ed.gov/ipeds/datacenter/data/SFA2021_DICT.zip\n",
      "['sfa2021.xlsx']\n"
     ]
    },
    {
     "data": {
      "text/plain": [
       "'sfa2021.xlsx'"
      ]
     },
     "execution_count": 16,
     "metadata": {},
     "output_type": "execute_result"
    }
   ],
   "source": [
    "# Student Financial Aid\n",
    "grab_zipfile(baseUrl, 'SFA2021')\n",
    "grab_zipfile(baseUrl, 'SFA2021_DICT')"
   ]
  },
  {
   "cell_type": "code",
   "execution_count": null,
   "metadata": {},
   "outputs": [],
   "source": []
  }
 ],
 "metadata": {
  "kernelspec": {
   "display_name": "Python 3 (ipykernel)",
   "language": "python",
   "name": "python3"
  },
  "language_info": {
   "codemirror_mode": {
    "name": "ipython",
    "version": 3
   },
   "file_extension": ".py",
   "mimetype": "text/x-python",
   "name": "python",
   "nbconvert_exporter": "python",
   "pygments_lexer": "ipython3",
   "version": "3.8.10"
  }
 },
 "nbformat": 4,
 "nbformat_minor": 4
}
